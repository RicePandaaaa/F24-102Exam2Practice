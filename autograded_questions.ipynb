{
 "cells": [
  {
   "cell_type": "markdown",
   "metadata": {},
   "source": [
    "<h2 style=\"color: #EC4000;\"> Autograded Questions </h2>\n",
    "\n",
    "This file consists of the ***solutions*** to the first 19 practice problems found in the Exam 2 practice problems PDF. You can find these problems in the ENGR 102 multisection (Modules -> Exam 2 Information -> Exam 2 Practice Problems) in Canvas. The video link showing me going through each of these problems is here: [TO BE RELEASED]. My annotated version of these questions is in the file \"autograded_questions_annotated.pdf\"."
   ]
  },
  {
   "cell_type": "code",
   "execution_count": 1,
   "metadata": {},
   "outputs": [
    {
     "name": "stdout",
     "output_type": "stream",
     "text": [
      "Hi Ann\n"
     ]
    }
   ],
   "source": [
    "# Question 1\n",
    "mydict = {\"Ann\" : 18, \"Bob\" : 20, \"Charlie\" : 19}\n",
    "if \"Joe\" in mydict:\n",
    "    print(\"Joe is here\")\n",
    "elif \"Ann\" in mydict:\n",
    "    print(\"Hi Ann\")\n",
    "else:\n",
    "    print(\"Anyone?\")"
   ]
  },
  {
   "cell_type": "code",
   "execution_count": 2,
   "metadata": {},
   "outputs": [
    {
     "name": "stdout",
     "output_type": "stream",
     "text": [
      "Length: 5\n",
      "Max: 5\n",
      "Min: 1\n",
      "Crazy: 3\n"
     ]
    }
   ],
   "source": [
    "# Question 2\n",
    "mydict = {}\n",
    "mylist = [1, 2, 3, 4, 5]\n",
    "mydict[\"Length\"] = len(mylist)\n",
    "mydict[\"Max\"] = max(mylist)\n",
    "mydict[\"Min\"] = min(mylist)\n",
    "mydict[\"Crazy\"] = mylist[1] * mylist[3] - mylist[-1]\n",
    "for key in mydict:\n",
    "    print(f\"{key}: {mydict[key]}\")"
   ]
  },
  {
   "cell_type": "code",
   "execution_count": 3,
   "metadata": {},
   "outputs": [
    {
     "ename": "TypeError",
     "evalue": "can't multiply sequence by non-int of type 'tuple'",
     "output_type": "error",
     "traceback": [
      "\u001b[1;31m---------------------------------------------------------------------------\u001b[0m",
      "\u001b[1;31mTypeError\u001b[0m                                 Traceback (most recent call last)",
      "Cell \u001b[1;32mIn[3], line 4\u001b[0m\n\u001b[0;32m      2\u001b[0m vector1 \u001b[38;5;241m=\u001b[39m (\u001b[38;5;241m1\u001b[39m, \u001b[38;5;241m2\u001b[39m, \u001b[38;5;241m3\u001b[39m)\n\u001b[0;32m      3\u001b[0m vector2 \u001b[38;5;241m=\u001b[39m (\u001b[38;5;241m2\u001b[39m, \u001b[38;5;241m3\u001b[39m, \u001b[38;5;241m4\u001b[39m)\n\u001b[1;32m----> 4\u001b[0m dotp \u001b[38;5;241m=\u001b[39m \u001b[43mvector1\u001b[49m\u001b[43m \u001b[49m\u001b[38;5;241;43m*\u001b[39;49m\u001b[43m \u001b[49m\u001b[43mvector2\u001b[49m\n\u001b[0;32m      5\u001b[0m \u001b[38;5;28mprint\u001b[39m(\u001b[38;5;124mf\u001b[39m\u001b[38;5;124m\"\u001b[39m\u001b[38;5;124mThe dot product is \u001b[39m\u001b[38;5;132;01m{\u001b[39;00mdotp\u001b[38;5;132;01m}\u001b[39;00m\u001b[38;5;124m\"\u001b[39m)\n",
      "\u001b[1;31mTypeError\u001b[0m: can't multiply sequence by non-int of type 'tuple'"
     ]
    }
   ],
   "source": [
    "# Question 3\n",
    "vector1 = (1, 2, 3)\n",
    "vector2 = (2, 3, 4)\n",
    "dotp = vector1 * vector2\n",
    "print(f\"The dot product is {dotp}\")"
   ]
  },
  {
   "cell_type": "code",
   "execution_count": 4,
   "metadata": {},
   "outputs": [
    {
     "name": "stdout",
     "output_type": "stream",
     "text": [
      "('Howdy', [2, 0, 2, 8])\n"
     ]
    }
   ],
   "source": [
    "# Question 4\n",
    "mystr = \"Howdy\"\n",
    "mylist = [2, 0, 2, 0]\n",
    "mytuple = (mystr, mylist)\n",
    "mytuple[1][3] = 8\n",
    "print(mytuple)"
   ]
  },
  {
   "cell_type": "code",
   "execution_count": 5,
   "metadata": {},
   "outputs": [
    {
     "name": "stdout",
     "output_type": "stream",
     "text": [
      "5\n",
      "5\n"
     ]
    }
   ],
   "source": [
    "# Question 5\n",
    "def myfunc(x):\n",
    "    a = 1\n",
    "    print(x)\n",
    "a = 5\n",
    "myfunc(a)\n",
    "print(a)"
   ]
  },
  {
   "cell_type": "code",
   "execution_count": 6,
   "metadata": {},
   "outputs": [
    {
     "name": "stdout",
     "output_type": "stream",
     "text": [
      "3\n"
     ]
    }
   ],
   "source": [
    "# Question 6\n",
    "def plus1_3(x):\n",
    "    return x + 1, x + 3\n",
    "print(plus1_3(2)[0])"
   ]
  },
  {
   "cell_type": "code",
   "execution_count": 7,
   "metadata": {},
   "outputs": [
    {
     "name": "stdout",
     "output_type": "stream",
     "text": [
      "Help on function myfun in module __main__:\n",
      "\n",
      "myfun()\n",
      "    This function prints a message.\n",
      "\n"
     ]
    }
   ],
   "source": [
    "def myfun():\n",
    "    '''This function prints a message.'''\n",
    "    print(\"Gig 'em Aggies!\")\n",
    "help(myfun)"
   ]
  },
  {
   "cell_type": "code",
   "execution_count": 8,
   "metadata": {},
   "outputs": [
    {
     "name": "stdout",
     "output_type": "stream",
     "text": [
      "2 Too big! \n"
     ]
    }
   ],
   "source": [
    "# Question 8\n",
    "def add1(x):\n",
    "    if x + 1 < 10:\n",
    "        return x + 1\n",
    "    else:\n",
    "        return \"Too big! \"\n",
    "print(add1(1), add1(28))"
   ]
  },
  {
   "cell_type": "code",
   "execution_count": 9,
   "metadata": {},
   "outputs": [
    {
     "ename": "SyntaxError",
     "evalue": "non-default argument follows default argument (3777740553.py, line 2)",
     "output_type": "error",
     "traceback": [
      "\u001b[1;36m  Cell \u001b[1;32mIn[9], line 2\u001b[1;36m\u001b[0m\n\u001b[1;33m    def myfunction(a, b=5, c):\u001b[0m\n\u001b[1;37m                           ^\u001b[0m\n\u001b[1;31mSyntaxError\u001b[0m\u001b[1;31m:\u001b[0m non-default argument follows default argument\n"
     ]
    }
   ],
   "source": [
    "# Question 9\n",
    "def myfunction(a, b=5, c):\n",
    "    return a * b * c\n",
    "print(myfunction(1, 2, 3))"
   ]
  },
  {
   "cell_type": "code",
   "execution_count": 11,
   "metadata": {},
   "outputs": [
    {
     "name": "stdout",
     "output_type": "stream",
     "text": [
      "7\n"
     ]
    }
   ],
   "source": [
    "# Question 10\n",
    "def aplus(i):\n",
    "    j = 0\n",
    "    while i != 1:\n",
    "        if i % 2 == 0:\n",
    "            i /= 2\n",
    "        else:\n",
    "            i = i * 3 + 1\n",
    "        j += 1\n",
    "    return j\n",
    "print(aplus(20))"
   ]
  },
  {
   "cell_type": "code",
   "execution_count": 13,
   "metadata": {},
   "outputs": [
    {
     "name": "stdout",
     "output_type": "stream",
     "text": [
      "# =\n",
      "# # =\n",
      "\n"
     ]
    }
   ],
   "source": [
    "# Question 11\n",
    "def go(x):\n",
    "    s = \"\"\n",
    "    for i in range(1, x + 1):\n",
    "        for j in range(1, i + 1):\n",
    "            s += \"# \"\n",
    "        s += \"=\\n\"\n",
    "    return s\n",
    "print(go(2))"
   ]
  },
  {
   "cell_type": "code",
   "execution_count": 14,
   "metadata": {},
   "outputs": [
    {
     "ename": "NameError",
     "evalue": "name 'timestwo' is not defined",
     "output_type": "error",
     "traceback": [
      "\u001b[1;31m---------------------------------------------------------------------------\u001b[0m",
      "\u001b[1;31mNameError\u001b[0m                                 Traceback (most recent call last)",
      "Cell \u001b[1;32mIn[14], line 3\u001b[0m\n\u001b[0;32m      1\u001b[0m \u001b[38;5;66;03m# Question 12\u001b[39;00m\n\u001b[0;32m      2\u001b[0m x \u001b[38;5;241m=\u001b[39m \u001b[38;5;241m4\u001b[39m\n\u001b[1;32m----> 3\u001b[0m y \u001b[38;5;241m=\u001b[39m \u001b[43mtimestwo\u001b[49m(x)\n\u001b[0;32m      4\u001b[0m \u001b[38;5;28;01mdef\u001b[39;00m \u001b[38;5;21mtimestwo\u001b[39m(x):\n\u001b[0;32m      5\u001b[0m     \u001b[38;5;28;01mreturn\u001b[39;00m x \u001b[38;5;241m*\u001b[39m \u001b[38;5;241m2\u001b[39m\n",
      "\u001b[1;31mNameError\u001b[0m: name 'timestwo' is not defined"
     ]
    }
   ],
   "source": [
    "# Question 12\n",
    "x = 4\n",
    "y = timestwo(x)\n",
    "def timestwo(x):\n",
    "    return x * 2\n",
    "print(y)"
   ]
  },
  {
   "cell_type": "code",
   "execution_count": 15,
   "metadata": {},
   "outputs": [
    {
     "name": "stdout",
     "output_type": "stream",
     "text": [
      "x is the float 5.0\n"
     ]
    }
   ],
   "source": [
    "# Question 13\n",
    "number = input(\"Enter a number: \") # assume the user enters 5.0\n",
    "try:\n",
    "    x = int(number)\n",
    "    print(f\"x is the integer {x}\")\n",
    "except:\n",
    "    x = float(number)\n",
    "    print(f\"x is the float {x}\")"
   ]
  },
  {
   "cell_type": "code",
   "execution_count": 16,
   "metadata": {},
   "outputs": [
    {
     "name": "stdout",
     "output_type": "stream",
     "text": [
      "Howdy Texas A&M Engineering students! \n"
     ]
    }
   ],
   "source": [
    "# Question 14\n",
    "mystr = \"Howdy! Welcome to Texas A&M Engineering!\"\n",
    "mylist = mystr.split()\n",
    "newstr = \"\" # empty string\n",
    "for i in range(3, len(mylist)):\n",
    "    newstr += mylist[i] + \" \"\n",
    "print(mylist[0][:5] + \" \" + newstr[:-2] + \" students! \")"
   ]
  },
  {
   "cell_type": "code",
   "execution_count": 19,
   "metadata": {},
   "outputs": [
    {
     "name": "stdout",
     "output_type": "stream",
     "text": [
      "1 3 4 5 7 9 "
     ]
    }
   ],
   "source": [
    "# Question 15\n",
    "mylist = [5, 3, 7, 9, 1, 2]\n",
    "mylist.pop()\n",
    "mylist.insert(2, 4)\n",
    "mylist.sort()\n",
    "for num in mylist:\n",
    "    print(num, end = ' ')"
   ]
  },
  {
   "cell_type": "code",
   "execution_count": 20,
   "metadata": {},
   "outputs": [
    {
     "name": "stdout",
     "output_type": "stream",
     "text": [
      "[[5 2 3]\n",
      " [4 5 6]\n",
      " [7 8 5]]\n"
     ]
    }
   ],
   "source": [
    "# Question 16\n",
    "import numpy as np\n",
    "\n",
    "mygrid = np.arange(1, 10).reshape(3, 3)\n",
    "for i in range(len(mygrid)):\n",
    "    mygrid[i][i] = 5\n",
    "print(mygrid)"
   ]
  },
  {
   "cell_type": "code",
   "execution_count": 21,
   "metadata": {},
   "outputs": [
    {
     "name": "stdout",
     "output_type": "stream",
     "text": [
      "2\n"
     ]
    }
   ],
   "source": [
    "# Question 17\n",
    "mystr = \"2-g:gig'em\\n3-s:aggies\\n1-o:whoop\"\n",
    "mylist = mystr.split(\"\\n\")\n",
    "good = 0\n",
    "for item in mylist:\n",
    "    key, word = item.strip().split(\":\")\n",
    "    key = key.split(\"-\")\n",
    "    if word.count(key[1]) >= int(key[0]):\n",
    "        good += 1\n",
    "print(good)"
   ]
  },
  {
   "cell_type": "code",
   "execution_count": 23,
   "metadata": {},
   "outputs": [
    {
     "name": "stdout",
     "output_type": "stream",
     "text": [
      "x,y\n",
      "1.0,0.0\n",
      "2.0,3.0\n",
      "3.0,8.0\n",
      "4.0,15.0\n",
      "5.0,24.0\n",
      "6.0,35.0\n",
      "7.0,48.0\n",
      "8.0,63.0\n",
      "9.0,80.0\n",
      "10.0,99.0\n",
      "\n"
     ]
    }
   ],
   "source": [
    "# Question 18\n",
    "import numpy as np\n",
    "x = np.linspace(1.0, 10.0, 10)\n",
    "y = x ** 2 - 1\n",
    "with open(\"zfile.txt\", \"w\") as zfile:\n",
    "    zfile.write(\"x\\ty\\n\")\n",
    "    for i in range(len(x)):\n",
    "        mystr = str(x[i]) + \"\\t\" + str(y[i])\n",
    "        zfile.write(mystr + \"\\n\")\n",
    "with open(\"zfile.txt\") as myfile:\n",
    "    all_of_it = myfile.read().split(\"\\t\")\n",
    "output = \",\".join(all_of_it)\n",
    "print(output)"
   ]
  },
  {
   "cell_type": "code",
   "execution_count": 24,
   "metadata": {},
   "outputs": [
    {
     "data": {
      "image/png": "[encoded data removed]",
      "text/plain": [
       "<Figure size 640x480 with 1 Axes>"
      ]
     },
     "metadata": {},
     "output_type": "display_data"
    }
   ],
   "source": [
    "# Question 19\n",
    "import numpy as np\n",
    "import matplotlib.pyplot as plt\n",
    "x = np.linspace(-2, 2, 25)\n",
    "y1 = x\n",
    "y2 = x ** 2\n",
    "plt.plot(x, y1, \"g\", linewidth = 3)\n",
    "plt.plot(x, y2, \"k\", marker = \"o\", markerfacecolor = \"b\")\n",
    "plt.axis([-2, 2, -2, 4])\n",
    "plt.xlabel(\"x\")\n",
    "plt.ylabel(\"f(x) \")\n",
    "plt.title(\"Plots for 2 polynomials\")\n",
    "plt.legend([\"straight\", \"curved\"], loc = \"upper center\")\n",
    "plt.show()"
   ]
  }
 ],
 "metadata": {
  "kernelspec": {
   "display_name": "Python 3",
   "language": "python",
   "name": "python3"
  },
  "language_info": {
   "codemirror_mode": {
    "name": "ipython",
    "version": 3
   },
   "file_extension": ".py",
   "mimetype": "text/x-python",
   "name": "python",
   "nbconvert_exporter": "python",
   "pygments_lexer": "ipython3",
   "version": "3.11.5"
  }
 },
 "nbformat": 4,
 "nbformat_minor": 2
}
